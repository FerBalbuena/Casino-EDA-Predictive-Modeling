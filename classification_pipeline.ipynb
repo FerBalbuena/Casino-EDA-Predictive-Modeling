{
 "cells": [
  {
   "cell_type": "code",
   "execution_count": 1,
   "metadata": {},
   "outputs": [],
   "source": [
    "import pandas as pd\n",
    "import numpy as np\n",
    "import datetime as dt\n",
    "from collections import Counter\n",
    "# Modeling\n",
    "from sklearn.preprocessing import LabelEncoder\n",
    "from sklearn.metrics import confusion_matrix\n",
    "import matplotlib.pyplot as plt"
   ]
  },
  {
   "cell_type": "code",
   "execution_count": 2,
   "metadata": {},
   "outputs": [
    {
     "data": {
      "text/html": [
       "<div>\n",
       "<style scoped>\n",
       "    .dataframe tbody tr th:only-of-type {\n",
       "        vertical-align: middle;\n",
       "    }\n",
       "\n",
       "    .dataframe tbody tr th {\n",
       "        vertical-align: top;\n",
       "    }\n",
       "\n",
       "    .dataframe thead th {\n",
       "        text-align: right;\n",
       "    }\n",
       "</style>\n",
       "<table border=\"1\" class=\"dataframe\">\n",
       "  <thead>\n",
       "    <tr style=\"text-align: right;\">\n",
       "      <th></th>\n",
       "      <th>customer</th>\n",
       "      <th>timest</th>\n",
       "      <th>amount</th>\n",
       "    </tr>\n",
       "  </thead>\n",
       "  <tbody>\n",
       "    <tr>\n",
       "      <th>0</th>\n",
       "      <td>customer1</td>\n",
       "      <td>2019-03-01 17:24:43+00:00</td>\n",
       "      <td>30.0</td>\n",
       "    </tr>\n",
       "    <tr>\n",
       "      <th>1</th>\n",
       "      <td>customer1</td>\n",
       "      <td>2019-03-01 19:54:04+00:00</td>\n",
       "      <td>50.0</td>\n",
       "    </tr>\n",
       "    <tr>\n",
       "      <th>2</th>\n",
       "      <td>customer1</td>\n",
       "      <td>2019-03-01 22:44:15+00:00</td>\n",
       "      <td>40.0</td>\n",
       "    </tr>\n",
       "    <tr>\n",
       "      <th>3</th>\n",
       "      <td>customer1</td>\n",
       "      <td>2019-03-02 02:44:20+00:00</td>\n",
       "      <td>100.0</td>\n",
       "    </tr>\n",
       "    <tr>\n",
       "      <th>4</th>\n",
       "      <td>customer1</td>\n",
       "      <td>2019-03-02 18:28:39+00:00</td>\n",
       "      <td>25.0</td>\n",
       "    </tr>\n",
       "  </tbody>\n",
       "</table>\n",
       "</div>"
      ],
      "text/plain": [
       "    customer                    timest  amount\n",
       "0  customer1 2019-03-01 17:24:43+00:00    30.0\n",
       "1  customer1 2019-03-01 19:54:04+00:00    50.0\n",
       "2  customer1 2019-03-01 22:44:15+00:00    40.0\n",
       "3  customer1 2019-03-02 02:44:20+00:00   100.0\n",
       "4  customer1 2019-03-02 18:28:39+00:00    25.0"
      ]
     },
     "execution_count": 2,
     "metadata": {},
     "output_type": "execute_result"
    }
   ],
   "source": [
    "casino = pd.read_csv(\"Online_casino_DIB.csv\")\n",
    "# Convertir columna de datetime\n",
    "casino.ReqTimeUTC = pd.to_datetime(casino.ReqTimeUTC)\n",
    "\n",
    "# Filtrar datos fuera de rango\n",
    "casino = casino[casino.ReqTimeUTC <='2020-02-29 00:00:00+00:00'].copy()\n",
    "\n",
    "# Dar nuevos valores a la columna df\n",
    "casino.TransactionType = casino.TransactionType.map({'LOYALTYCARDDEBIT':'L2D', 'LOYALTYCARDCREDITCL':'L1D', 'LOYALTYCARDCREDIT':'L2W'})\n",
    "\n",
    "# Filtrar df por condición\n",
    "casino = casino[(casino.TransactionType == \"L2D\") & (casino.Status==\"APPROVED\")].reset_index(drop=True)\n",
    "\n",
    "# Eliminar columnas de valor único\n",
    "casino = casino[['AccountIdentifier', 'ReqTimeUTC', 'TransactionAmount']]\n",
    "\n",
    "# Ordenar df por valores de columna\n",
    "casino = casino.sort_values([\"AccountIdentifier\", \"ReqTimeUTC\"]).reset_index(drop=True)\n",
    "\n",
    "# Rename columns\n",
    "casino.rename(columns = {'AccountIdentifier':'customer', 'ReqTimeUTC':'timest',  'TransactionAmount':'amount'}, inplace=True)\n",
    "casino.head()"
   ]
  },
  {
   "cell_type": "code",
   "execution_count": 3,
   "metadata": {},
   "outputs": [
    {
     "data": {
      "text/plain": [
       "(69734, 3)"
      ]
     },
     "execution_count": 3,
     "metadata": {},
     "output_type": "execute_result"
    }
   ],
   "source": [
    "casino.shape"
   ]
  },
  {
   "cell_type": "code",
   "execution_count": 4,
   "metadata": {},
   "outputs": [
    {
     "data": {
      "text/html": [
       "<div>\n",
       "<style scoped>\n",
       "    .dataframe tbody tr th:only-of-type {\n",
       "        vertical-align: middle;\n",
       "    }\n",
       "\n",
       "    .dataframe tbody tr th {\n",
       "        vertical-align: top;\n",
       "    }\n",
       "\n",
       "    .dataframe thead th {\n",
       "        text-align: right;\n",
       "    }\n",
       "</style>\n",
       "<table border=\"1\" class=\"dataframe\">\n",
       "  <thead>\n",
       "    <tr style=\"text-align: right;\">\n",
       "      <th></th>\n",
       "      <th>customer</th>\n",
       "      <th>day</th>\n",
       "      <th>daily_amount</th>\n",
       "      <th>nr_trans</th>\n",
       "    </tr>\n",
       "  </thead>\n",
       "  <tbody>\n",
       "    <tr>\n",
       "      <th>0</th>\n",
       "      <td>customer1</td>\n",
       "      <td>2019-03-01 00:00:00+00:00</td>\n",
       "      <td>120.0</td>\n",
       "      <td>3</td>\n",
       "    </tr>\n",
       "    <tr>\n",
       "      <th>1</th>\n",
       "      <td>customer1</td>\n",
       "      <td>2019-03-02 00:00:00+00:00</td>\n",
       "      <td>125.0</td>\n",
       "      <td>2</td>\n",
       "    </tr>\n",
       "    <tr>\n",
       "      <th>2</th>\n",
       "      <td>customer1</td>\n",
       "      <td>2019-03-03 00:00:00+00:00</td>\n",
       "      <td>200.0</td>\n",
       "      <td>2</td>\n",
       "    </tr>\n",
       "    <tr>\n",
       "      <th>3</th>\n",
       "      <td>customer1</td>\n",
       "      <td>2019-03-04 00:00:00+00:00</td>\n",
       "      <td>160.0</td>\n",
       "      <td>3</td>\n",
       "    </tr>\n",
       "    <tr>\n",
       "      <th>4</th>\n",
       "      <td>customer1</td>\n",
       "      <td>2019-03-05 00:00:00+00:00</td>\n",
       "      <td>240.0</td>\n",
       "      <td>3</td>\n",
       "    </tr>\n",
       "    <tr>\n",
       "      <th>...</th>\n",
       "      <td>...</td>\n",
       "      <td>...</td>\n",
       "      <td>...</td>\n",
       "      <td>...</td>\n",
       "    </tr>\n",
       "    <tr>\n",
       "      <th>28600</th>\n",
       "      <td>customer996</td>\n",
       "      <td>2019-03-14 00:00:00+00:00</td>\n",
       "      <td>25.0</td>\n",
       "      <td>1</td>\n",
       "    </tr>\n",
       "    <tr>\n",
       "      <th>28601</th>\n",
       "      <td>customer996</td>\n",
       "      <td>2019-09-13 00:00:00+00:00</td>\n",
       "      <td>25.0</td>\n",
       "      <td>2</td>\n",
       "    </tr>\n",
       "    <tr>\n",
       "      <th>28602</th>\n",
       "      <td>customer997</td>\n",
       "      <td>2019-09-22 00:00:00+00:00</td>\n",
       "      <td>50.0</td>\n",
       "      <td>1</td>\n",
       "    </tr>\n",
       "    <tr>\n",
       "      <th>28603</th>\n",
       "      <td>customer998</td>\n",
       "      <td>2019-11-09 00:00:00+00:00</td>\n",
       "      <td>50.0</td>\n",
       "      <td>2</td>\n",
       "    </tr>\n",
       "    <tr>\n",
       "      <th>28604</th>\n",
       "      <td>customer999</td>\n",
       "      <td>2019-03-20 00:00:00+00:00</td>\n",
       "      <td>750.0</td>\n",
       "      <td>2</td>\n",
       "    </tr>\n",
       "  </tbody>\n",
       "</table>\n",
       "<p>28605 rows × 4 columns</p>\n",
       "</div>"
      ],
      "text/plain": [
       "          customer                       day  daily_amount  nr_trans\n",
       "0        customer1 2019-03-01 00:00:00+00:00         120.0         3\n",
       "1        customer1 2019-03-02 00:00:00+00:00         125.0         2\n",
       "2        customer1 2019-03-03 00:00:00+00:00         200.0         2\n",
       "3        customer1 2019-03-04 00:00:00+00:00         160.0         3\n",
       "4        customer1 2019-03-05 00:00:00+00:00         240.0         3\n",
       "...            ...                       ...           ...       ...\n",
       "28600  customer996 2019-03-14 00:00:00+00:00          25.0         1\n",
       "28601  customer996 2019-09-13 00:00:00+00:00          25.0         2\n",
       "28602  customer997 2019-09-22 00:00:00+00:00          50.0         1\n",
       "28603  customer998 2019-11-09 00:00:00+00:00          50.0         2\n",
       "28604  customer999 2019-03-20 00:00:00+00:00         750.0         2\n",
       "\n",
       "[28605 rows x 4 columns]"
      ]
     },
     "execution_count": 4,
     "metadata": {},
     "output_type": "execute_result"
    }
   ],
   "source": [
    "# Agregar columna de día, agrupar datos por cliente y día \n",
    "casino[\"day\"] = casino.timest.dt.floor('D')\n",
    "daily_activity = casino.groupby([\"customer\", \"day\"]).agg({\"amount\": [\"sum\", \"count\"]}).reset_index()\n",
    "daily_activity = daily_activity.droplevel(axis=1, level=1)\n",
    "daily_activity.columns = [\"customer\", \"day\", \"daily_amount\", \"nr_trans\"]\n",
    "daily_activity"
   ]
  },
  {
   "cell_type": "code",
   "execution_count": 5,
   "metadata": {},
   "outputs": [
    {
     "name": "stdout",
     "output_type": "stream",
     "text": [
      "164656\n"
     ]
    }
   ],
   "source": [
    "# Generar rangos de fechas completos por cliente\n",
    "full_customer_df = pd.DataFrame()\n",
    "customer_ids = daily_activity.customer.unique()\n",
    "len(customer_ids)\n",
    "\n",
    "for customer in customer_ids:\n",
    "    customer_df = daily_activity[daily_activity.customer == customer]\n",
    "    customer_full_date_range = pd.date_range(\n",
    "    customer_df.day.min(),\n",
    "    customer_df.day.max(),\n",
    "    freq = \"D\")\n",
    "    customer_df = customer_df.set_index(keys = \"day\").copy()\n",
    "    customer_df = customer_df.reindex(list(customer_full_date_range), fill_value=0)\n",
    "    customer_df[\"customer\"] = [customer]*len(customer_df)\n",
    "    customer_df = customer_df.reset_index()\n",
    "\n",
    "    full_customer_df = pd.concat([full_customer_df, customer_df])\n",
    "full_customer_df = full_customer_df.reset_index(drop=True)\n",
    "print(len(full_customer_df))"
   ]
  },
  {
   "cell_type": "code",
   "execution_count": 6,
   "metadata": {},
   "outputs": [],
   "source": [
    "# Crear características para entrenamiento\n",
    "ml_df = pd.DataFrame()\n",
    "for customer in customer_ids:\n",
    "    customer_df = full_customer_df[full_customer_df.customer==customer]\n",
    "    customer_df = customer_df.reset_index(drop=True)\n",
    "\n",
    "    features = []\n",
    "    responses = []\n",
    "    # Los índices de corte iniciales se incrementarán\n",
    "    x1, x14, y = 0, 14, 17\n",
    "\n",
    "    while y<=len(customer_df):\n",
    "        # Base\n",
    "        feat_x1_x14 = customer_df.nr_trans[x1:x14].values.tolist()\n",
    "        trans_next_3_days = np.count_nonzero(customer_df.nr_trans[x14:y])\n",
    "        # response = [1 if trans_next_3_days!=0 else 0][0]\n",
    "        response = [0 if trans_next_3_days!=0 else 1][0]\n",
    "        responses.append(response)\n",
    "\n",
    "        #Características adicionales\n",
    "        ## -- Nr of days with money deposits in the last 14 days\n",
    "        x15 = np.count_nonzero(customer_df.nr_trans[x1:x14])\n",
    "        ## -- Nr of days with money deposits in the last 7 days\n",
    "        x16 = np.count_nonzero(customer_df.nr_trans[x1+7:x14])\n",
    "        ## -- Nr of days with money deposits in the last 3 days\n",
    "        x17 = np.count_nonzero(customer_df.nr_trans[x14-2:x14+1])\n",
    "\n",
    "        # Average number of deposits in the last 14 days\n",
    "        x18 = customer_df.nr_trans[x1:x14].mean().tolist()\n",
    "        # Max number of daily deposits in the last 14 days\n",
    "        x19 = customer_df.nr_trans[x1:x14].max().tolist()\n",
    "\n",
    "\n",
    "        # Amount deposited in the last 7 days\n",
    "        x20 = customer_df.daily_amount[x1+7:x14].sum().tolist()\n",
    "        # Average Daily Amount deposited in the last 7 days\n",
    "        x21 = customer_df.daily_amount[x1+7:x14].mean().tolist()\n",
    "\n",
    "        feat_x1_x14.extend([x15, x16, x17, x18, x19, x20, x21, customer])\n",
    "        features.append(feat_x1_x14)\n",
    "\n",
    "        # increment\n",
    "        x1+=1\n",
    "        x14+=1\n",
    "        y+=1\n",
    "    df = pd.DataFrame(features)\n",
    "    df[\"response\"]=responses \n",
    "    ml_df  = pd.concat([ml_df , df])"
   ]
  },
  {
   "cell_type": "code",
   "execution_count": 7,
   "metadata": {},
   "outputs": [
    {
     "name": "stdout",
     "output_type": "stream",
     "text": [
      "54235\n"
     ]
    }
   ],
   "source": [
    "ml_df = ml_df.drop_duplicates(subset=list(range(20))).reset_index(drop=True)\n",
    "print(len(ml_df))"
   ]
  },
  {
   "cell_type": "code",
   "execution_count": 8,
   "metadata": {},
   "outputs": [],
   "source": [
    "# Codificar respuesta y balancear datos\n",
    "le = LabelEncoder()\n",
    "ml_df.response = le.fit_transform(ml_df.response)"
   ]
  },
  {
   "cell_type": "code",
   "execution_count": 9,
   "metadata": {},
   "outputs": [],
   "source": [
    "Counter(ml_df.response)\n",
    "balanced_df = ml_df"
   ]
  },
  {
   "cell_type": "code",
   "execution_count": null,
   "metadata": {},
   "outputs": [
    {
     "data": {
      "text/plain": [
       "['customer546', 'customer181', 'customer432']"
      ]
     },
     "execution_count": 10,
     "metadata": {},
     "output_type": "execute_result"
    }
   ],
   "source": [
    "# Dividir datos por cliente\n",
    "split_df = balanced_df.iloc[:,[21, 22]].groupby(21).count().reset_index()\n",
    "test_customers = list(split_df.sample(frac=0.2)[21])\n",
    "test_customers[0:3]\n",
    "test_customers[0:3]"
   ]
  },
  {
   "cell_type": "code",
   "execution_count": 11,
   "metadata": {},
   "outputs": [
    {
     "name": "stdout",
     "output_type": "stream",
     "text": [
      "42978\n",
      "Counter({0: 25131, 1: 17847})\n",
      "11257\n",
      "Counter({0: 6403, 1: 4854})\n"
     ]
    }
   ],
   "source": [
    "['customer443', 'customer987', 'customer176']\n",
    "test_df = balanced_df[balanced_df[21].isin(test_customers)]\n",
    "train_df = balanced_df[~balanced_df[21].isin(test_customers)]\n",
    "print(len(train_df))\n",
    "print(Counter(train_df.response))\n",
    "print(len(test_df))\n",
    "print(Counter(test_df.response))"
   ]
  },
  {
   "cell_type": "code",
   "execution_count": 12,
   "metadata": {},
   "outputs": [],
   "source": [
    "x_train = train_df.iloc[:, :21]\n",
    "y_train = train_df.response\n",
    "x_test = test_df.iloc[:, :21]\n",
    "y_test = test_df.response"
   ]
  },
  {
   "cell_type": "code",
   "execution_count": 13,
   "metadata": {},
   "outputs": [],
   "source": [
    "import xgboost as xgb"
   ]
  },
  {
   "cell_type": "code",
   "execution_count": 14,
   "metadata": {},
   "outputs": [
    {
     "name": "stdout",
     "output_type": "stream",
     "text": [
      "0.7964074642840523\n",
      "0.7727636137514435\n"
     ]
    }
   ],
   "source": [
    "# Train the model\n",
    "xgb_classifier = xgb.XGBClassifier(eta = 0.05)\n",
    "xgb_classifier.fit(x_train, y_train)\n",
    "print(xgb_classifier.score(x_train, y_train))\n",
    "print(xgb_classifier.score(x_test, y_test))"
   ]
  },
  {
   "cell_type": "code",
   "execution_count": 15,
   "metadata": {},
   "outputs": [
    {
     "data": {
      "text/plain": [
       "array([[4413, 1990],\n",
       "       [ 568, 4286]])"
      ]
     },
     "execution_count": 15,
     "metadata": {},
     "output_type": "execute_result"
    }
   ],
   "source": [
    "# Predict\n",
    "pred_labels = xgb_classifier.predict(x_test)\n",
    "confusion_matrix(y_true = y_test, y_pred =pred_labels)"
   ]
  },
  {
   "cell_type": "code",
   "execution_count": 16,
   "metadata": {},
   "outputs": [
    {
     "name": "stdout",
     "output_type": "stream",
     "text": [
      "accuracy:0.7727636137514435\n",
      "precision: 0.6829190567240281\n",
      "recall:0.8829831067161105\n",
      "miss rate:0.11701689328388958\n"
     ]
    }
   ],
   "source": [
    "tn, fp, fn, tp = confusion_matrix(y_true = y_test, y_pred =pred_labels).ravel()\n",
    "# print(tn, fp, fn, tp)\n",
    "\n",
    "recall = tp/(tp+fn)\n",
    "precision = tp/(tp+fp)\n",
    "#miss rate/ FNR\n",
    "false_negative_rate = fn/(tp+fn)\n",
    "print(f\"accuracy:{(tp+tn)/(len(y_test))}\")\n",
    "print(f\"precision: {precision}\")\n",
    "print(f\"recall:{recall}\")\n",
    "print(f\"miss rate:{false_negative_rate}\")"
   ]
  },
  {
   "cell_type": "code",
   "execution_count": 17,
   "metadata": {},
   "outputs": [
    {
     "name": "stdout",
     "output_type": "stream",
     "text": [
      "158 636\n",
      "158 636\n",
      "158 636\n",
      "158 636\n",
      "158 636\n"
     ]
    }
   ],
   "source": [
    "# Create 5 folds\n",
    "split_df = split_df.sample(frac=1).reset_index(drop=True)\n",
    "K= 5\n",
    "test_fold_size = int(len(split_df)/5)\n",
    "folds = {\n",
    "    0:{\"train\":[], \"test\":[]},\n",
    "    1:{\"train\":[], \"test\":[]},\n",
    "    2:{\"train\":[], \"test\":[]},\n",
    "    3:{\"train\":[], \"test\":[]},\n",
    "    4:{\"train\":[], \"test\":[]},}\n",
    "end_idx = 0\n",
    "for fold in range(K):\n",
    "    start_idx = end_idx\n",
    "    end_idx = end_idx+test_fold_size\n",
    "    test_fold_df = split_df[start_idx: end_idx]\n",
    "    test_fold_customers = list(set(test_fold_df[21]))\n",
    "    train_fold_customers = list(set(split_df[21]) - set(test_fold_df[21]))\n",
    "    folds[fold][\"test\"].append(test_fold_customers)\n",
    "    folds[fold][\"train\"].append(train_fold_customers)\n",
    "    print(len(test_fold_customers), len(train_fold_customers))\n",
    "# Folds"
   ]
  },
  {
   "cell_type": "code",
   "execution_count": 18,
   "metadata": {},
   "outputs": [
    {
     "name": "stdout",
     "output_type": "stream",
     "text": [
      "0\n",
      "1\n",
      "2\n",
      "3\n",
      "4\n"
     ]
    }
   ],
   "source": [
    "accuracies = []\n",
    "precisions = []\n",
    "recalls = []\n",
    "miss_rates = []\n",
    "\n",
    "for fold_id in folds.keys():\n",
    "    print(fold_id)\n",
    "    test_customers = folds[fold_id][\"test\"][0]\n",
    "    train_customers = folds[fold_id][\"train\"][0]\n",
    "    test_df = balanced_df[balanced_df[21].isin(test_customers)]\n",
    "    train_df = balanced_df[balanced_df[21].isin(train_customers)]\n",
    "\n",
    "    x_train = train_df.iloc[:, :21]\n",
    "    y_train = train_df.response\n",
    "    x_test = test_df.iloc[:, :21]\n",
    "    y_test = test_df.response\n",
    "    # Train the model\n",
    "    xgb_classifier = xgb.XGBClassifier(eta = 0.05)\n",
    "    xgb_classifier.fit(x_train, y_train)\n",
    "\n",
    "    # Predict\n",
    "    pred_labels = xgb_classifier.predict(x_test)\n",
    "    confusion_matrix(y_true = y_test, y_pred =pred_labels)\n",
    "    tn, fp, fn, tp = confusion_matrix(y_true = y_test, y_pred =pred_labels).ravel()\n",
    "\n",
    "    recall = tp/(tp+fn)\n",
    "    precision = tp/(tp+fp)\n",
    "    #miss rate/ FNR\n",
    "    false_negative_rate = fn/(tp+fn)\n",
    "    accuracy = (tp+tn)/(len(y_test))\n",
    "\n",
    "    accuracies.append(accuracy)\n",
    "    precisions.append(precision)\n",
    "    recalls.append(recall)\n",
    "    miss_rates.append(false_negative_rate)"
   ]
  },
  {
   "cell_type": "code",
   "execution_count": 19,
   "metadata": {},
   "outputs": [],
   "source": [
    "import seaborn as sns"
   ]
  },
  {
   "cell_type": "code",
   "execution_count": 20,
   "metadata": {},
   "outputs": [
    {
     "data": {
      "text/plain": [
       "<Axes: >"
      ]
     },
     "execution_count": 20,
     "metadata": {},
     "output_type": "execute_result"
    },
    {
     "data": {
      "image/png": "[encoded data removed]",
      "text/plain": [
       "<Figure size 640x480 with 1 Axes>"
      ]
     },
     "metadata": {},
     "output_type": "display_data"
    }
   ],
   "source": [
    "metrics = pd.DataFrame.from_dict({\n",
    "    \"acc\":accuracies,\n",
    "    \"prec\":precisions,\n",
    "    \"rec\": recalls,\n",
    "    \"miss\":miss_rates})\n",
    "sns.lineplot(metrics)"
   ]
  },
  {
   "cell_type": "code",
   "execution_count": 21,
   "metadata": {},
   "outputs": [],
   "source": [
    "# Guardar DF para análisis en Power BI\n",
    "casino.to_csv(\"cleaned_casino_data.csv\", index=False)\n",
    "train_df.to_csv(\"train_data.csv\", index=False)\n",
    "test_df.to_csv(\"test_data.csv\", index=False)\n",
    "ml_df.to_csv(\"ml_features.csv\", index=False)\n",
    "daily_activity.to_csv(\"daily_activity.csv\", index=False)\n",
    "full_customer_df.to_csv(\"full_customer_activity.csv\", index=False)"
   ]
  }
 ],
 "metadata": {
  "kernelspec": {
   "display_name": "Python 3",
   "language": "python",
   "name": "python3"
  },
  "language_info": {
   "codemirror_mode": {
    "name": "ipython",
    "version": 3
   },
   "file_extension": ".py",
   "mimetype": "text/x-python",
   "name": "python",
   "nbconvert_exporter": "python",
   "pygments_lexer": "ipython3",
   "version": "3.12.3"
  }
 },
 "nbformat": 4,
 "nbformat_minor": 2
}
